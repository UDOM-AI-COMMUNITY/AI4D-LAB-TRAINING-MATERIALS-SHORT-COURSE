{
 "cells": [
  {
   "cell_type": "markdown",
   "metadata": {},
   "source": [
    "<br>\n",
    "<br>\n",
    "<div>\n",
    "<img  style=\"float: left; padding-right: 100px; width: 350px\" src=\"../images/africa-no-words.png\">\n",
    "    </div>\n",
    "    <br>\n",
    "    <h2 align=\"center\">AI4D-Lab | AI Short Course</h2>\n",
    "<hr>\n",
    "<h4 align=\"center\">Zephania Reuben</h4>\n",
    "<h4 align=\"center\">July, 2022</h4>\n",
    "<hr>\n",
    "<h3 align=\"center\">The University of Dodoma - CIVE</h3>\n",
    "<hr>\n",
    "<br>\n",
    "<br>\n",
    "<h3 align=\"center\">PYTHON FUNDAMENTALS | EXERCISE\n",
    "<br>"
   ]
  },
  {
   "cell_type": "code",
   "execution_count": 1,
   "metadata": {
    "deletable": false
   },
   "outputs": [],
   "source": [
    "# Initialize Otter\n",
    "import otter\n",
    "grader = otter.Notebook(\"python_exercise_ai4d_lab_2022.ipynb\")"
   ]
  },
  {
   "cell_type": "code",
   "execution_count": 2,
   "metadata": {},
   "outputs": [],
   "source": [
    "# Check the IPython version\n",
    "import IPython\n",
    "assert IPython.version_info[0] >= 3, \"Your version of IPython is too old, please update it.\""
   ]
  },
  {
   "cell_type": "code",
   "execution_count": 3,
   "metadata": {},
   "outputs": [],
   "source": [
    "# Import the good stuff\n",
    "from nose.tools import assert_equal\n",
    "import numpy as np\n",
    "import math\n",
    "import otter\n",
    "grader = otter.Notebook()"
   ]
  },
  {
   "cell_type": "markdown",
   "metadata": {},
   "source": [
    "**Question 1:**  Write a function `ypoly` to output the value of `y` given `x` and `p`. Function definition is `y = 4 + 5x^p` Ensure that if the `x` is not positive the value of `y` should be `0`"
   ]
  },
  {
   "cell_type": "code",
   "execution_count": 4,
   "metadata": {
    "tags": []
   },
   "outputs": [],
   "source": [
    "def ypoly(x, p):\n",
    "    ..."
   ]
  },
  {
   "cell_type": "code",
   "execution_count": null,
   "metadata": {
    "deletable": false,
    "editable": false
   },
   "outputs": [],
   "source": [
    "grader.check(\"q1\")"
   ]
  },
  {
   "cell_type": "markdown",
   "metadata": {},
   "source": [
    "**Question 2:**  Write a function `perfectly_divisible` to return a list of numbers between 0 and a number $N$ that are perfectly divisible by $q$ (with out leaving a remainder). <br>\n",
    "**Hint**: $N$ should also be inclusive in the numbers being considered. If N is negative use N == 20"
   ]
  },
  {
   "cell_type": "code",
   "execution_count": 6,
   "metadata": {
    "tags": []
   },
   "outputs": [],
   "source": [
    "def perfectly_divisible(N, q):\n",
    "    ..."
   ]
  },
  {
   "cell_type": "code",
   "execution_count": 7,
   "metadata": {
    "deletable": false,
    "editable": false
   },
   "outputs": [
    {
     "data": {
      "text/html": [
       "<p><strong style='color: red;'><pre style='display: inline;'>Question</pre> results:</strong></p><p><strong><pre style='display: inline;'>Question - 1</pre> result:</strong></p><pre>    Trying:\n",
       "        perfectly_divisible(20,2)\n",
       "    Expecting:\n",
       "        [0, 2, 4, 6, 8, 10, 12, 14, 16, 18, 20]\n",
       "    **********************************************************************\n",
       "    Line 2, in Question 0\n",
       "    Failed example:\n",
       "        perfectly_divisible(20,2)\n",
       "    Expected:\n",
       "        [0, 2, 4, 6, 8, 10, 12, 14, 16, 18, 20]\n",
       "    Got nothing\n",
       "</pre><p><strong><pre style='display: inline;'>Question - 2</pre> result:</strong></p><pre>    Trying:\n",
       "        perfectly_divisible(10,2)\n",
       "    Expecting:\n",
       "        [0, 2, 4, 6, 8, 10]\n",
       "    **********************************************************************\n",
       "    Line 2, in Question 1\n",
       "    Failed example:\n",
       "        perfectly_divisible(10,2)\n",
       "    Expected:\n",
       "        [0, 2, 4, 6, 8, 10]\n",
       "    Got nothing\n",
       "</pre><p><strong><pre style='display: inline;'>Question - 3</pre> result:</strong></p><pre>    Trying:\n",
       "        perfectly_divisible(30,2)\n",
       "    Expecting:\n",
       "        [0, 2, 4, 6, 8, 10, 12, 14, 16, 18, 20, 22, 24, 26, 28, 30]\n",
       "    **********************************************************************\n",
       "    Line 2, in Question 2\n",
       "    Failed example:\n",
       "        perfectly_divisible(30,2)\n",
       "    Expected:\n",
       "        [0, 2, 4, 6, 8, 10, 12, 14, 16, 18, 20, 22, 24, 26, 28, 30]\n",
       "    Got nothing\n",
       "</pre>"
      ],
      "text/plain": [
       "Question results:\n",
       "    Question - 1 result:\n",
       "        Trying:\n",
       "            perfectly_divisible(20,2)\n",
       "        Expecting:\n",
       "            [0, 2, 4, 6, 8, 10, 12, 14, 16, 18, 20]\n",
       "        **********************************************************************\n",
       "        Line 2, in Question 0\n",
       "        Failed example:\n",
       "            perfectly_divisible(20,2)\n",
       "        Expected:\n",
       "            [0, 2, 4, 6, 8, 10, 12, 14, 16, 18, 20]\n",
       "        Got nothing\n",
       "\n",
       "    Question - 2 result:\n",
       "        Trying:\n",
       "            perfectly_divisible(10,2)\n",
       "        Expecting:\n",
       "            [0, 2, 4, 6, 8, 10]\n",
       "        **********************************************************************\n",
       "        Line 2, in Question 1\n",
       "        Failed example:\n",
       "            perfectly_divisible(10,2)\n",
       "        Expected:\n",
       "            [0, 2, 4, 6, 8, 10]\n",
       "        Got nothing\n",
       "\n",
       "    Question - 3 result:\n",
       "        Trying:\n",
       "            perfectly_divisible(30,2)\n",
       "        Expecting:\n",
       "            [0, 2, 4, 6, 8, 10, 12, 14, 16, 18, 20, 22, 24, 26, 28, 30]\n",
       "        **********************************************************************\n",
       "        Line 2, in Question 2\n",
       "        Failed example:\n",
       "            perfectly_divisible(30,2)\n",
       "        Expected:\n",
       "            [0, 2, 4, 6, 8, 10, 12, 14, 16, 18, 20, 22, 24, 26, 28, 30]\n",
       "        Got nothing"
      ]
     },
     "execution_count": 7,
     "metadata": {},
     "output_type": "execute_result"
    }
   ],
   "source": [
    "grader.check(\"q2\")"
   ]
  },
  {
   "cell_type": "markdown",
   "metadata": {},
   "source": [
    "**Question 3:**  Write a function `flatten_lists` that takes in a list of lists and outputs a sorted list of elements of sublists of the input list (confusing right?) <br>\n",
    "Example: given `flatten_lists([[2,13,44], [6,7]])` it should return `[2,6,7,13,44]`"
   ]
  },
  {
   "cell_type": "code",
   "execution_count": 8,
   "metadata": {
    "tags": []
   },
   "outputs": [],
   "source": [
    "def flatten_lists(superlist):\n",
    "    ..."
   ]
  },
  {
   "cell_type": "code",
   "execution_count": 9,
   "metadata": {
    "deletable": false,
    "editable": false
   },
   "outputs": [
    {
     "data": {
      "text/html": [
       "<p><strong style='color: red;'><pre style='display: inline;'>Question</pre> results:</strong></p><p><strong><pre style='display: inline;'>Question - 1</pre> result:</strong></p><pre>    Trying:\n",
       "        flatten_lists([[2,13,44], [6,7]])\n",
       "    Expecting:\n",
       "        [2, 6, 7, 13, 44]\n",
       "    **********************************************************************\n",
       "    Line 2, in Question 0\n",
       "    Failed example:\n",
       "        flatten_lists([[2,13,44], [6,7]])\n",
       "    Expected:\n",
       "        [2, 6, 7, 13, 44]\n",
       "    Got nothing\n",
       "</pre><p><strong><pre style='display: inline;'>Question - 2</pre> result:</strong></p><pre>    Trying:\n",
       "        flatten_lists([[2,13,12], [6,7]])\n",
       "    Expecting:\n",
       "        [2, 6, 7, 12, 13]\n",
       "    **********************************************************************\n",
       "    Line 2, in Question 1\n",
       "    Failed example:\n",
       "        flatten_lists([[2,13,12], [6,7]])\n",
       "    Expected:\n",
       "        [2, 6, 7, 12, 13]\n",
       "    Got nothing\n",
       "</pre><p><strong><pre style='display: inline;'>Question - 3</pre> result:</strong></p><pre>    Trying:\n",
       "        flatten_lists([[22,13,4], [67,7]])\n",
       "    Expecting:\n",
       "        [4, 7, 13, 22, 67]\n",
       "    **********************************************************************\n",
       "    Line 2, in Question 2\n",
       "    Failed example:\n",
       "        flatten_lists([[22,13,4], [67,7]])\n",
       "    Expected:\n",
       "        [4, 7, 13, 22, 67]\n",
       "    Got nothing\n",
       "</pre>"
      ],
      "text/plain": [
       "Question results:\n",
       "    Question - 1 result:\n",
       "        Trying:\n",
       "            flatten_lists([[2,13,44], [6,7]])\n",
       "        Expecting:\n",
       "            [2, 6, 7, 13, 44]\n",
       "        **********************************************************************\n",
       "        Line 2, in Question 0\n",
       "        Failed example:\n",
       "            flatten_lists([[2,13,44], [6,7]])\n",
       "        Expected:\n",
       "            [2, 6, 7, 13, 44]\n",
       "        Got nothing\n",
       "\n",
       "    Question - 2 result:\n",
       "        Trying:\n",
       "            flatten_lists([[2,13,12], [6,7]])\n",
       "        Expecting:\n",
       "            [2, 6, 7, 12, 13]\n",
       "        **********************************************************************\n",
       "        Line 2, in Question 1\n",
       "        Failed example:\n",
       "            flatten_lists([[2,13,12], [6,7]])\n",
       "        Expected:\n",
       "            [2, 6, 7, 12, 13]\n",
       "        Got nothing\n",
       "\n",
       "    Question - 3 result:\n",
       "        Trying:\n",
       "            flatten_lists([[22,13,4], [67,7]])\n",
       "        Expecting:\n",
       "            [4, 7, 13, 22, 67]\n",
       "        **********************************************************************\n",
       "        Line 2, in Question 2\n",
       "        Failed example:\n",
       "            flatten_lists([[22,13,4], [67,7]])\n",
       "        Expected:\n",
       "            [4, 7, 13, 22, 67]\n",
       "        Got nothing"
      ]
     },
     "execution_count": 9,
     "metadata": {},
     "output_type": "execute_result"
    }
   ],
   "source": [
    "grader.check(\"q3\")"
   ]
  },
  {
   "cell_type": "markdown",
   "metadata": {},
   "source": [
    "**Question 4:**  Write a function `longest_word` to return the longest string in a line of text <br>\n",
    "Example: for text `Hallo people of the world!` should return `people` <br>\n",
    "If there is a tie, then it should return the `1st` \"longest\" word encountered"
   ]
  },
  {
   "cell_type": "code",
   "execution_count": 10,
   "metadata": {
    "tags": []
   },
   "outputs": [],
   "source": [
    "def longest_word(sentence):\n",
    "    ..."
   ]
  },
  {
   "cell_type": "code",
   "execution_count": 11,
   "metadata": {
    "deletable": false,
    "editable": false
   },
   "outputs": [
    {
     "data": {
      "text/html": [
       "<p><strong style='color: red;'><pre style='display: inline;'>Question</pre> results:</strong></p><p><strong><pre style='display: inline;'>Question - 1</pre> result:</strong></p><pre>    Trying:\n",
       "        longest_word('Hallo people of the world!')\n",
       "    Expecting:\n",
       "        'people'\n",
       "    **********************************************************************\n",
       "    Line 2, in Question 0\n",
       "    Failed example:\n",
       "        longest_word('Hallo people of the world!')\n",
       "    Expected:\n",
       "        'people'\n",
       "    Got nothing\n",
       "</pre><p><strong><pre style='display: inline;'>Question - 2</pre> result:</strong></p><pre>    Trying:\n",
       "        longest_word('Welcome to DSA 2020 Arusha Tanzania!')\n",
       "    Expecting:\n",
       "        'Tanzania!'\n",
       "    **********************************************************************\n",
       "    Line 2, in Question 1\n",
       "    Failed example:\n",
       "        longest_word('Welcome to DSA 2020 Arusha Tanzania!')\n",
       "    Expected:\n",
       "        'Tanzania!'\n",
       "    Got nothing\n",
       "</pre>"
      ],
      "text/plain": [
       "Question results:\n",
       "    Question - 1 result:\n",
       "        Trying:\n",
       "            longest_word('Hallo people of the world!')\n",
       "        Expecting:\n",
       "            'people'\n",
       "        **********************************************************************\n",
       "        Line 2, in Question 0\n",
       "        Failed example:\n",
       "            longest_word('Hallo people of the world!')\n",
       "        Expected:\n",
       "            'people'\n",
       "        Got nothing\n",
       "\n",
       "    Question - 2 result:\n",
       "        Trying:\n",
       "            longest_word('Welcome to DSA 2020 Arusha Tanzania!')\n",
       "        Expecting:\n",
       "            'Tanzania!'\n",
       "        **********************************************************************\n",
       "        Line 2, in Question 1\n",
       "        Failed example:\n",
       "            longest_word('Welcome to DSA 2020 Arusha Tanzania!')\n",
       "        Expected:\n",
       "            'Tanzania!'\n",
       "        Got nothing"
      ]
     },
     "execution_count": 11,
     "metadata": {},
     "output_type": "execute_result"
    }
   ],
   "source": [
    "grader.check(\"q4\")"
   ]
  },
  {
   "cell_type": "markdown",
   "metadata": {},
   "source": [
    "**Question 5:**  Write a function `dictionarize` that takes a list as input and returns a dictionary with the elements of the list as the keys and the frequency of the element as the values."
   ]
  },
  {
   "cell_type": "code",
   "execution_count": 12,
   "metadata": {
    "tags": []
   },
   "outputs": [],
   "source": [
    "def dictionarize(alist):\n",
    "    ..."
   ]
  },
  {
   "cell_type": "code",
   "execution_count": 13,
   "metadata": {
    "deletable": false,
    "editable": false
   },
   "outputs": [
    {
     "data": {
      "text/html": [
       "<p><strong style='color: red;'><pre style='display: inline;'>Question</pre> results:</strong></p><p><strong><pre style='display: inline;'>Question - 1</pre> result:</strong></p><pre>    Trying:\n",
       "        dictionalize([1,1,1,1,2,2,2,2,3,3,4,5,5])\n",
       "    Expecting:\n",
       "        {1: 4, 2: 4, 3: 2, 4: 1, 5: 2}\n",
       "    **********************************************************************\n",
       "    Line 2, in Question 0\n",
       "    Failed example:\n",
       "        dictionalize([1,1,1,1,2,2,2,2,3,3,4,5,5])\n",
       "    Exception raised:\n",
       "        Traceback (most recent call last):\n",
       "          File \"/usr/lib/python3.8/doctest.py\", line 1336, in __run\n",
       "            exec(compile(example.source, filename, \"single\",\n",
       "          File \"<doctest Question 0[0]>\", line 1, in <module>\n",
       "            dictionalize([1,1,1,1,2,2,2,2,3,3,4,5,5])\n",
       "        NameError: name 'dictionalize' is not defined\n",
       "</pre><p><strong><pre style='display: inline;'>Question - 2</pre> result:</strong></p><pre>    Trying:\n",
       "        dictionalize([1,1,1,6,8,2,9,3,3,3,4,5,5])\n",
       "    Expecting:\n",
       "        {1: 3, 6: 1, 8: 1, 2: 1, 9: 1, 3: 3, 4: 1, 5: 2}\n",
       "    **********************************************************************\n",
       "    Line 2, in Question 1\n",
       "    Failed example:\n",
       "        dictionalize([1,1,1,6,8,2,9,3,3,3,4,5,5])\n",
       "    Exception raised:\n",
       "        Traceback (most recent call last):\n",
       "          File \"/usr/lib/python3.8/doctest.py\", line 1336, in __run\n",
       "            exec(compile(example.source, filename, \"single\",\n",
       "          File \"<doctest Question 1[0]>\", line 1, in <module>\n",
       "            dictionalize([1,1,1,6,8,2,9,3,3,3,4,5,5])\n",
       "        NameError: name 'dictionalize' is not defined\n",
       "</pre>"
      ],
      "text/plain": [
       "Question results:\n",
       "    Question - 1 result:\n",
       "        Trying:\n",
       "            dictionalize([1,1,1,1,2,2,2,2,3,3,4,5,5])\n",
       "        Expecting:\n",
       "            {1: 4, 2: 4, 3: 2, 4: 1, 5: 2}\n",
       "        **********************************************************************\n",
       "        Line 2, in Question 0\n",
       "        Failed example:\n",
       "            dictionalize([1,1,1,1,2,2,2,2,3,3,4,5,5])\n",
       "        Exception raised:\n",
       "            Traceback (most recent call last):\n",
       "              File \"/usr/lib/python3.8/doctest.py\", line 1336, in __run\n",
       "                exec(compile(example.source, filename, \"single\",\n",
       "              File \"<doctest Question 0[0]>\", line 1, in <module>\n",
       "                dictionalize([1,1,1,1,2,2,2,2,3,3,4,5,5])\n",
       "            NameError: name 'dictionalize' is not defined\n",
       "\n",
       "    Question - 2 result:\n",
       "        Trying:\n",
       "            dictionalize([1,1,1,6,8,2,9,3,3,3,4,5,5])\n",
       "        Expecting:\n",
       "            {1: 3, 6: 1, 8: 1, 2: 1, 9: 1, 3: 3, 4: 1, 5: 2}\n",
       "        **********************************************************************\n",
       "        Line 2, in Question 1\n",
       "        Failed example:\n",
       "            dictionalize([1,1,1,6,8,2,9,3,3,3,4,5,5])\n",
       "        Exception raised:\n",
       "            Traceback (most recent call last):\n",
       "              File \"/usr/lib/python3.8/doctest.py\", line 1336, in __run\n",
       "                exec(compile(example.source, filename, \"single\",\n",
       "              File \"<doctest Question 1[0]>\", line 1, in <module>\n",
       "                dictionalize([1,1,1,6,8,2,9,3,3,3,4,5,5])\n",
       "            NameError: name 'dictionalize' is not defined"
      ]
     },
     "execution_count": 13,
     "metadata": {},
     "output_type": "execute_result"
    }
   ],
   "source": [
    "grader.check(\"q5\")"
   ]
  },
  {
   "cell_type": "markdown",
   "metadata": {},
   "source": [
    "**Question 6:**  Write a function `greatest_common_divisor` that takes two inputs `a` and `b` and returns the greatest common divisor of the two numbers. E.g. input `(10, 15)` would return `5`"
   ]
  },
  {
   "cell_type": "code",
   "execution_count": 14,
   "metadata": {
    "tags": []
   },
   "outputs": [],
   "source": [
    "def greatest_common_divisor(a, b):\n",
    "    ..."
   ]
  },
  {
   "cell_type": "code",
   "execution_count": 15,
   "metadata": {
    "deletable": false,
    "editable": false
   },
   "outputs": [
    {
     "data": {
      "text/html": [
       "<p><strong style='color: red;'><pre style='display: inline;'>Question</pre> results:</strong></p><p><strong><pre style='display: inline;'>Question - 1</pre> result:</strong></p><pre>    Trying:\n",
       "        greatest_common_divisor(10,15)\n",
       "    Expecting:\n",
       "        5\n",
       "    **********************************************************************\n",
       "    Line 2, in Question 0\n",
       "    Failed example:\n",
       "        greatest_common_divisor(10,15)\n",
       "    Expected:\n",
       "        5\n",
       "    Got nothing\n",
       "</pre><p><strong><pre style='display: inline;'>Question - 2</pre> result:</strong></p><pre>    Trying:\n",
       "        greatest_common_divisor(20,50)\n",
       "    Expecting:\n",
       "        10\n",
       "    **********************************************************************\n",
       "    Line 2, in Question 1\n",
       "    Failed example:\n",
       "        greatest_common_divisor(20,50)\n",
       "    Expected:\n",
       "        10\n",
       "    Got nothing\n",
       "</pre>"
      ],
      "text/plain": [
       "Question results:\n",
       "    Question - 1 result:\n",
       "        Trying:\n",
       "            greatest_common_divisor(10,15)\n",
       "        Expecting:\n",
       "            5\n",
       "        **********************************************************************\n",
       "        Line 2, in Question 0\n",
       "        Failed example:\n",
       "            greatest_common_divisor(10,15)\n",
       "        Expected:\n",
       "            5\n",
       "        Got nothing\n",
       "\n",
       "    Question - 2 result:\n",
       "        Trying:\n",
       "            greatest_common_divisor(20,50)\n",
       "        Expecting:\n",
       "            10\n",
       "        **********************************************************************\n",
       "        Line 2, in Question 1\n",
       "        Failed example:\n",
       "            greatest_common_divisor(20,50)\n",
       "        Expected:\n",
       "            10\n",
       "        Got nothing"
      ]
     },
     "execution_count": 15,
     "metadata": {},
     "output_type": "execute_result"
    }
   ],
   "source": [
    "grader.check(\"q6\")"
   ]
  },
  {
   "cell_type": "markdown",
   "metadata": {},
   "source": [
    "**Question 7:**  Write a function `get_nearest_farthest` that takes in a point of interest (pt) and a list of points and returns the nearest point and the farthest point from the point of intest."
   ]
  },
  {
   "cell_type": "code",
   "execution_count": 16,
   "metadata": {
    "tags": []
   },
   "outputs": [],
   "source": [
    "def get_nearest_farthest(pt, ptlist):\n",
    "    ..."
   ]
  },
  {
   "cell_type": "code",
   "execution_count": 17,
   "metadata": {
    "deletable": false,
    "editable": false
   },
   "outputs": [
    {
     "data": {
      "text/html": [
       "<p><strong style='color: red;'><pre style='display: inline;'>Question</pre> results:</strong></p><p><strong><pre style='display: inline;'>Question - 1</pre> result:</strong></p><pre>    Trying:\n",
       "        get_nearest_farthest([1.5,0.5], [[1,2],[2,1],[2,3],[4,5],[6,7],[7,6],[6,8],[9,10]])\n",
       "    Expecting:\n",
       "        ([2, 1], [9, 10])\n",
       "    **********************************************************************\n",
       "    Line 2, in Question 0\n",
       "    Failed example:\n",
       "        get_nearest_farthest([1.5,0.5], [[1,2],[2,1],[2,3],[4,5],[6,7],[7,6],[6,8],[9,10]])\n",
       "    Expected:\n",
       "        ([2, 1], [9, 10])\n",
       "    Got nothing\n",
       "</pre><p><strong><pre style='display: inline;'>Question - 2</pre> result:</strong></p><pre>    Trying:\n",
       "        get_nearest_farthest([1.5,0.5], [[1,2],[4,1],[2,3],[4,5],[6,7],[7,6],[6,8],[9,1]])\n",
       "    Expecting:\n",
       "        ([1, 2], [6, 8])\n",
       "    **********************************************************************\n",
       "    Line 2, in Question 1\n",
       "    Failed example:\n",
       "        get_nearest_farthest([1.5,0.5], [[1,2],[4,1],[2,3],[4,5],[6,7],[7,6],[6,8],[9,1]])\n",
       "    Expected:\n",
       "        ([1, 2], [6, 8])\n",
       "    Got nothing\n",
       "</pre>"
      ],
      "text/plain": [
       "Question results:\n",
       "    Question - 1 result:\n",
       "        Trying:\n",
       "            get_nearest_farthest([1.5,0.5], [[1,2],[2,1],[2,3],[4,5],[6,7],[7,6],[6,8],[9,10]])\n",
       "        Expecting:\n",
       "            ([2, 1], [9, 10])\n",
       "        **********************************************************************\n",
       "        Line 2, in Question 0\n",
       "        Failed example:\n",
       "            get_nearest_farthest([1.5,0.5], [[1,2],[2,1],[2,3],[4,5],[6,7],[7,6],[6,8],[9,10]])\n",
       "        Expected:\n",
       "            ([2, 1], [9, 10])\n",
       "        Got nothing\n",
       "\n",
       "    Question - 2 result:\n",
       "        Trying:\n",
       "            get_nearest_farthest([1.5,0.5], [[1,2],[4,1],[2,3],[4,5],[6,7],[7,6],[6,8],[9,1]])\n",
       "        Expecting:\n",
       "            ([1, 2], [6, 8])\n",
       "        **********************************************************************\n",
       "        Line 2, in Question 1\n",
       "        Failed example:\n",
       "            get_nearest_farthest([1.5,0.5], [[1,2],[4,1],[2,3],[4,5],[6,7],[7,6],[6,8],[9,1]])\n",
       "        Expected:\n",
       "            ([1, 2], [6, 8])\n",
       "        Got nothing"
      ]
     },
     "execution_count": 17,
     "metadata": {},
     "output_type": "execute_result"
    }
   ],
   "source": [
    "grader.check(\"q7\")"
   ]
  },
  {
   "cell_type": "markdown",
   "metadata": {
    "deletable": false,
    "editable": false
   },
   "source": [
    "---\n",
    "\n",
    "To double-check your work, the cell below will rerun all of the autograder tests."
   ]
  },
  {
   "cell_type": "code",
   "execution_count": 18,
   "metadata": {
    "deletable": false,
    "editable": false
   },
   "outputs": [
    {
     "data": {
      "text/plain": [
       "Question results:\n",
       "    Question - 1 result:\n",
       "        Trying:\n",
       "            get_nearest_farthest([1.5,0.5], [[1,2],[2,1],[2,3],[4,5],[6,7],[7,6],[6,8],[9,10]])\n",
       "        Expecting:\n",
       "            ([2, 1], [9, 10])\n",
       "        **********************************************************************\n",
       "        Line 2, in Question 0\n",
       "        Failed example:\n",
       "            get_nearest_farthest([1.5,0.5], [[1,2],[2,1],[2,3],[4,5],[6,7],[7,6],[6,8],[9,10]])\n",
       "        Expected:\n",
       "            ([2, 1], [9, 10])\n",
       "        Got nothing\n",
       "\n",
       "    Question - 2 result:\n",
       "        Trying:\n",
       "            get_nearest_farthest([1.5,0.5], [[1,2],[4,1],[2,3],[4,5],[6,7],[7,6],[6,8],[9,1]])\n",
       "        Expecting:\n",
       "            ([1, 2], [6, 8])\n",
       "        **********************************************************************\n",
       "        Line 2, in Question 1\n",
       "        Failed example:\n",
       "            get_nearest_farthest([1.5,0.5], [[1,2],[4,1],[2,3],[4,5],[6,7],[7,6],[6,8],[9,1]])\n",
       "        Expected:\n",
       "            ([1, 2], [6, 8])\n",
       "        Got nothing"
      ]
     },
     "execution_count": 18,
     "metadata": {},
     "output_type": "execute_result"
    }
   ],
   "source": [
    "grader.check_all()"
   ]
  },
  {
   "cell_type": "code",
   "execution_count": 19,
   "metadata": {
    "deletable": false,
    "editable": false
   },
   "outputs": [
    {
     "name": "stdout",
     "output_type": "stream",
     "text": [
      "There was an error generating your LaTeX; showing full error message:\n",
      "================================================================================\n",
      "Failed to run \"['xelatex', 'notebook.tex', '-quiet']\" command:\n",
      "This is XeTeX, Version 3.14159265-2.6-0.999991 (TeX Live 2019/Debian) (preloaded format=xelatex)\n",
      " restricted \\write18 enabled.\n",
      "entering extended mode\n",
      "(./notebook.tex\n",
      "LaTeX2e <2020-02-02> patch level 2\n",
      "L3 programming layer <2020-02-14>\n",
      "(/usr/share/texlive/texmf-dist/tex/latex/base/article.cls\n",
      "Document Class: article 2019/12/20 v1.4l Standard LaTeX document class\n",
      "(/usr/share/texlive/texmf-dist/tex/latex/base/size10.clo))\n",
      "(/usr/share/texlive/texmf-dist/tex/xelatex/xecjk/xeCJK.sty\n",
      "(/usr/share/texlive/texmf-dist/tex/latex/l3kernel/expl3.sty\n",
      "(/usr/share/texlive/texmf-dist/tex/latex/l3backend/l3backend-xdvipdfmx.def))\n",
      "(/usr/share/texlive/texmf-dist/tex/latex/l3packages/l3keys2e/l3keys2e.sty)\n",
      "(/usr/share/texlive/texmf-dist/tex/latex/l3packages/xtemplate/xtemplate.sty)\n",
      "(/usr/share/texlive/texmf-dist/tex/latex/l3packages/xparse/xparse.sty)\n",
      "(/usr/share/texlive/texmf-dist/tex/latex/fontspec/fontspec.sty\n",
      "(/usr/share/texlive/texmf-dist/tex/latex/fontspec/fontspec-xetex.sty\n",
      "(/usr/share/texlive/texmf-dist/tex/latex/base/fontenc.sty)\n",
      "(/usr/share/texlive/texmf-dist/tex/latex/fontspec/fontspec.cfg)))\n",
      "(/usr/share/texlive/texmf-dist/tex/xelatex/xecjk/xeCJK.cfg))\n",
      "(/usr/share/texlive/texmf-dist/tex/latex/graphics/graphicx.sty\n",
      "(/usr/share/texlive/texmf-dist/tex/latex/graphics/keyval.sty)\n",
      "(/usr/share/texlive/texmf-dist/tex/latex/graphics/graphics.sty\n",
      "(/usr/share/texlive/texmf-dist/tex/latex/graphics/trig.sty)\n",
      "(/usr/share/texlive/texmf-dist/tex/latex/graphics-cfg/graphics.cfg)\n",
      "(/usr/share/texlive/texmf-dist/tex/latex/graphics-def/xetex.def)))\n",
      "(/usr/share/texlive/texmf-dist/tex/latex/caption/caption.sty\n",
      "(/usr/share/texlive/texmf-dist/tex/latex/caption/caption3.sty))\n",
      "(/usr/share/texlive/texmf-dist/tex/latex/float/float.sty)\n",
      "(/usr/share/texlive/texmf-dist/tex/latex/xcolor/xcolor.sty\n",
      "(/usr/share/texlive/texmf-dist/tex/latex/graphics-cfg/color.cfg))\n",
      "(/usr/share/texlive/texmf-dist/tex/latex/tools/enumerate.sty)\n",
      "(/usr/share/texlive/texmf-dist/tex/latex/geometry/geometry.sty\n",
      "(/usr/share/texlive/texmf-dist/tex/generic/iftex/ifvtex.sty\n",
      "(/usr/share/texlive/texmf-dist/tex/generic/iftex/iftex.sty)))\n",
      "(/usr/share/texlive/texmf-dist/tex/latex/amsmath/amsmath.sty\n",
      "For additional information on amsmath, use the `?' option.\n",
      "(/usr/share/texlive/texmf-dist/tex/latex/amsmath/amstext.sty\n",
      "(/usr/share/texlive/texmf-dist/tex/latex/amsmath/amsgen.sty))\n",
      "(/usr/share/texlive/texmf-dist/tex/latex/amsmath/amsbsy.sty)\n",
      "(/usr/share/texlive/texmf-dist/tex/latex/amsmath/amsopn.sty))\n",
      "(/usr/share/texlive/texmf-dist/tex/latex/amsfonts/amssymb.sty\n",
      "(/usr/share/texlive/texmf-dist/tex/latex/amsfonts/amsfonts.sty))\n",
      "(/usr/share/texlive/texmf-dist/tex/latex/base/textcomp.sty)\n",
      "(/usr/share/texlive/texmf-dist/tex/latex/upquote/upquote.sty)\n",
      "(/usr/share/texlive/texmf-dist/tex/latex/eurosym/eurosym.sty)\n",
      "(/usr/share/texlive/texmf-dist/tex/latex/unicode-math/unicode-math.sty\n",
      "(/usr/share/texlive/texmf-dist/tex/latex/unicode-math/unicode-math-xetex.sty\n",
      "(/usr/share/texlive/texmf-dist/tex/latex/base/fix-cm.sty\n",
      "(/usr/share/texlive/texmf-dist/tex/latex/base/ts1enc.def))\n",
      "(/usr/share/texlive/texmf-dist/tex/latex/unicode-math/unicode-math-table.tex)))\n",
      "(/usr/share/texlive/texmf-dist/tex/latex/fancyvrb/fancyvrb.sty)\n",
      "(/usr/share/texlive/texmf-dist/tex/latex/grffile/grffile.sty)\n",
      "(/usr/share/texlive/texmf-dist/tex/latex/adjustbox/adjustbox.sty\n",
      "(/usr/share/texlive/texmf-dist/tex/latex/xkeyval/xkeyval.sty\n",
      "(/usr/share/texlive/texmf-dist/tex/generic/xkeyval/xkeyval.tex\n",
      "(/usr/share/texlive/texmf-dist/tex/generic/xkeyval/xkvutils.tex)))\n",
      "(/usr/share/texlive/texmf-dist/tex/latex/adjustbox/adjcalc.sty)\n",
      "(/usr/share/texlive/texmf-dist/tex/latex/adjustbox/trimclip.sty\n",
      "(/usr/share/texlive/texmf-dist/tex/latex/collectbox/collectbox.sty)\n",
      "(/usr/share/texlive/texmf-dist/tex/latex/adjustbox/tc-xetex.def))\n",
      "(/usr/share/texlive/texmf-dist/tex/latex/ifoddpage/ifoddpage.sty)\n",
      "(/usr/share/texlive/texmf-dist/tex/latex/varwidth/varwidth.sty))\n",
      "(/usr/share/texlive/texmf-dist/tex/latex/hyperref/hyperref.sty\n",
      "(/usr/share/texlive/texmf-dist/tex/generic/ltxcmds/ltxcmds.sty)\n",
      "(/usr/share/texlive/texmf-dist/tex/latex/pdftexcmds/pdftexcmds.sty\n",
      "(/usr/share/texlive/texmf-dist/tex/generic/infwarerr/infwarerr.sty))\n",
      "(/usr/share/texlive/texmf-dist/tex/generic/kvsetkeys/kvsetkeys.sty)\n",
      "(/usr/share/texlive/texmf-dist/tex/generic/kvdefinekeys/kvdefinekeys.sty)\n",
      "(/usr/share/texlive/texmf-dist/tex/generic/pdfescape/pdfescape.sty)\n",
      "(/usr/share/texlive/texmf-dist/tex/latex/hycolor/hycolor.sty)\n",
      "(/usr/share/texlive/texmf-dist/tex/latex/letltxmacro/letltxmacro.sty)\n",
      "(/usr/share/texlive/texmf-dist/tex/latex/auxhook/auxhook.sty)\n",
      "(/usr/share/texlive/texmf-dist/tex/latex/kvoptions/kvoptions.sty)\n",
      "(/usr/share/texlive/texmf-dist/tex/latex/hyperref/pd1enc.def)\n",
      "(/usr/share/texlive/texmf-dist/tex/generic/intcalc/intcalc.sty)\n",
      "(/usr/share/texlive/texmf-dist/tex/generic/etexcmds/etexcmds.sty)\n",
      "(/usr/share/texlive/texmf-dist/tex/latex/url/url.sty)\n",
      "(/usr/share/texlive/texmf-dist/tex/generic/bitset/bitset.sty\n",
      "(/usr/share/texlive/texmf-dist/tex/generic/bigintcalc/bigintcalc.sty))\n",
      "(/usr/share/texlive/texmf-dist/tex/generic/atbegshi/atbegshi.sty))\n",
      "(/usr/share/texlive/texmf-dist/tex/latex/hyperref/hxetex.def\n",
      "(/usr/share/texlive/texmf-dist/tex/latex/hyperref/puenc.def)\n",
      "(/usr/share/texlive/texmf-dist/tex/generic/stringenc/stringenc.sty)\n",
      "(/usr/share/texlive/texmf-dist/tex/latex/rerunfilecheck/rerunfilecheck.sty\n",
      "(/usr/share/texlive/texmf-dist/tex/latex/atveryend/atveryend.sty)\n",
      "(/usr/share/texlive/texmf-dist/tex/generic/uniquecounter/uniquecounter.sty)))\n",
      "(/usr/share/texlive/texmf-dist/tex/latex/titling/titling.sty)\n",
      "(/usr/share/texlive/texmf-dist/tex/latex/tools/longtable.sty)\n",
      "(/usr/share/texlive/texmf-dist/tex/latex/booktabs/booktabs.sty)\n",
      "(/usr/share/texlive/texmf-dist/tex/latex/tools/array.sty)\n",
      "(/usr/share/texlive/texmf-dist/tex/latex/tools/calc.sty)\n",
      "(/usr/share/texlive/texmf-dist/tex/latex/enumitem/enumitem.sty)\n",
      "(/usr/share/texlive/texmf-dist/tex/generic/ulem/ulem.sty)\n",
      "(/usr/share/texlive/texmf-dist/tex/latex/jknapltx/mathrsfs.sty)kpathsea:make_tex: Invalid filename `[FandolSong-Regular.otf]/OT', contains '['\n",
      "\n",
      "\n",
      "Package xeCJK Warning: Fandol is being set as the default font for CJK text.\n",
      "(xeCJK)                Please make sure it has been properly installed.\n",
      "\n",
      "\n",
      "! Package fontspec Error: The font \"FandolSong-Regular\" cannot be found.\n",
      "\n",
      "For immediate help type H <return>.\n",
      " ...                                              \n",
      "                                                  \n",
      "l.316 \\begin{document}\n",
      "                      \n",
      "? \n",
      "! Emergency stop.\n",
      " ...                                              \n",
      "                                                  \n",
      "l.316 \\begin{document}\n",
      "                      \n",
      "No pages of output.\n",
      "Transcript written on notebook.log.\n",
      "\n",
      "================================================================================\n",
      "If the error above is related to xeCJK or fandol in LaTeX and you don't require this functionality, try running again with no_xecjk set to True or the --no-xecjk flag.\n"
     ]
    },
    {
     "name": "stderr",
     "output_type": "stream",
     "text": [
      "/home/nsoma/.local/lib/python3.8/site-packages/otter/check/notebook.py:330: UserWarning: Could not locate a PDF to include\n",
      "  warnings.warn(\"Could not locate a PDF to include\")\n"
     ]
    },
    {
     "data": {
      "text/html": [
       "\n",
       "            <p>Your submission has been exported. Click <a href=\"python_exercise_ai4d_lab_2022_2022_07_16T06_52_01_033969.zip\" download=\"python_exercise_ai4d_lab_2022_2022_07_16T06_52_01_033969.zip\" target=\"_blank\">here</a>\n",
       "            to download the zip file.</p>\n",
       "            "
      ],
      "text/plain": [
       "<IPython.core.display.HTML object>"
      ]
     },
     "metadata": {},
     "output_type": "display_data"
    }
   ],
   "source": [
    "# Save your notebook first, then run this cell to export your submission.\n",
    "grader.export()"
   ]
  },
  {
   "cell_type": "markdown",
   "metadata": {},
   "source": [
    "Credit: [Data Science Africa 2022](https://www.datascienceafrica.org/dsa2022arusha/blog/summer-school)"
   ]
  }
 ],
 "metadata": {
  "kernelspec": {
   "display_name": "Python 3",
   "language": "python",
   "name": "python3"
  },
  "language_info": {
   "codemirror_mode": {
    "name": "ipython",
    "version": 3
   },
   "file_extension": ".py",
   "mimetype": "text/x-python",
   "name": "python",
   "nbconvert_exporter": "python",
   "pygments_lexer": "ipython3",
   "version": "3.8.10"
  },
  "latex_envs": {
   "LaTeX_envs_menu_present": true,
   "autoclose": false,
   "autocomplete": true,
   "bibliofile": "biblio.bib",
   "cite_by": "apalike",
   "current_citInitial": 1,
   "eqLabelWithNumbers": true,
   "eqNumInitial": 1,
   "hotkeys": {
    "equation": "Ctrl-E",
    "itemize": "Ctrl-I"
   },
   "labels_anchors": false,
   "latex_user_defs": false,
   "report_style_numbering": false,
   "user_envs_cfg": false
  },
  "otter": {
   "tests": {
    "q1": {
     "name": "q1",
     "points": 6,
     "suites": [
      {
       "cases": [
        {
         "code": ">>> ypoly(3,3) == 139\nTrue",
         "hidden": false,
         "locked": false
        },
        {
         "code": ">>> ypoly(-2,3) == 0\nTrue",
         "hidden": false,
         "locked": false
        }
       ],
       "scored": true,
       "setup": "",
       "teardown": "",
       "type": "doctest"
      }
     ]
    },
    "q2": {
     "name": "q2",
     "points": 5,
     "suites": [
      {
       "cases": [
        {
         "code": ">>> assert_equal(perfectly_divisible(10,2), [0,2,4,6,8,10])\n",
         "hidden": false,
         "locked": false
        }
       ],
       "scored": true,
       "setup": "",
       "teardown": "",
       "type": "doctest"
      }
     ]
    },
    "q3": {
     "name": "q3",
     "points": 4,
     "suites": [
      {
       "cases": [
        {
         "code": ">>> assert_equal(flatten_lists([[2,13,44], [6,7]]), [2, 6, 7, 13, 44])\n",
         "hidden": false,
         "locked": false
        }
       ],
       "scored": true,
       "setup": "",
       "teardown": "",
       "type": "doctest"
      }
     ]
    },
    "q4": {
     "name": "q4",
     "points": 5,
     "suites": [
      {
       "cases": [
        {
         "code": ">>> assert_equal(longest_word(\"Hello there people\"), 'people')\n",
         "hidden": false,
         "locked": false
        }
       ],
       "scored": true,
       "setup": "",
       "teardown": "",
       "type": "doctest"
      }
     ]
    },
    "q5": {
     "name": "q5",
     "points": 5,
     "suites": [
      {
       "cases": [
        {
         "code": ">>> assert_equal(dictionarize([1,2,2,3,4,5]), {1: 1, 2: 2, 3: 1, 4: 1, 5: 1})\n",
         "hidden": false,
         "locked": false
        }
       ],
       "scored": true,
       "setup": "",
       "teardown": "",
       "type": "doctest"
      }
     ]
    },
    "q6": {
     "name": "q6",
     "points": 5,
     "suites": [
      {
       "cases": [
        {
         "code": ">>> assert_equal(greatest_common_divisor(10, 15), 5)\n",
         "hidden": false,
         "locked": false
        }
       ],
       "scored": true,
       "setup": "",
       "teardown": "",
       "type": "doctest"
      }
     ]
    },
    "q7": {
     "name": "q7",
     "points": 10,
     "suites": [
      {
       "cases": [
        {
         "code": ">>> assert_equal(get_nearest_farthest((3, 8), [(9, 3), (8,5), (7,6)]), ((7, 6), (9, 3)))\n",
         "hidden": false,
         "locked": false
        }
       ],
       "scored": true,
       "setup": "",
       "teardown": "",
       "type": "doctest"
      }
     ]
    }
   }
  }
 },
 "nbformat": 4,
 "nbformat_minor": 2
}
