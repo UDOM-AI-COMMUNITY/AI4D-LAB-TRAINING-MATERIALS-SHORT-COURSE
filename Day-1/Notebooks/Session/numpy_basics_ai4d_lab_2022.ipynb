{
 "cells": [
  {
   "cell_type": "markdown",
   "metadata": {},
   "source": [
    "<br>\n",
    "<br>\n",
    "<div>\n",
    "<img  style=\"float: left; padding-right: 100px; width: 350px\" src=\"../images/africa-no-words.png\">\n",
    "    </div>\n",
    "    <br>\n",
    "    <h2 align=\"center\">AI4D-Lab | AI Short Course</h2>\n",
    "<hr>\n",
    "<h4 align=\"center\"><a href=\"https://t.co/IoL5C0LiPX\">Zephania Reuben</a></h4>\n",
    "<h4 align=\"center\">July, 2022</h4>\n",
    "<hr>\n",
    "<h3 align=\"center\">The University of Dodoma - CIVE</h3>\n",
    "<hr>\n",
    "<br>\n",
    "<br>\n",
    "<h3 align=\"center\">NUMPY FUNDAMENTALS\n",
    "<br>"
   ]
  },
  {
   "cell_type": "markdown",
   "metadata": {},
   "source": [
    "<h3 style=\"color:green\">OUTLINES:</h3>\n",
    "\n",
    "- **<span>Introduction to NumPy**\n",
    "- **<span>Getting started with NumPy</span>**\n",
    "- **<span>Creating NumPy array</span>**\n",
    "- **<span>NumPy arrays operations</span>**\n",
    "- **<span>Inspecting size and shape</span>**\n",
    "- **<span>Extracting items from an array</span>**\n",
    "- **<span>Reverse rows and columns</span>**\n",
    "- **<span>Computing mean,min,max on the ndarray</span>**\n",
    "- **<span>Reshaping and Flattening multidimensional array</span>**\n",
    "- **<span>Creating sequences, repetitions, and random numbers</span>**\n",
    "- **<span>Getting unique items and count </span>**    "
   ]
  },
  {
   "cell_type": "markdown",
   "metadata": {},
   "source": [
    "<h2 style=\"color:red; text-align:center;\">Introduction to NumPy</h2>\n",
    "<h2 style=\"color:green;\">What is NumPy?</h2> \n",
    "\n",
    "- The NumPy library (NumPy, Numerical Python) is a package of high level mathematical functions and tools that are designed to work with the numpy array objects.\n",
    "- A numpy array is a high performance multidimensional data structure more efficient than a <u>Python list</u>\n",
    "- At the core, numpy provides the excellent ndarray objects, short for n-dimensional arrays.\n",
    "- In a 'ndarray' object, it can store multiple items of the same data type.\n",
    "\n",
    "<h2 style=\"color:green; text-align:center;\">Getting started with NumPy</h2> \n",
    "  \n",
    "<h3 style=\"color:green;\">Installing Matplotlib</h3>  \n",
    "\n",
    "- **Installing Matplotlib on Linux**\n",
    " - In the following table, we will present some of the common Linux distributions package names for Matplotlib and the tools we can use to install the package:\n",
    " \n",
    "**Distribution**        |       **Package Name**\n",
    "----------------------  |  -------------------------------\n",
    "Debian or Ubuntu (And other Debian derivatives)                 |  <code>sudo apt-get install python-numpy</code>\n",
    "Fedora                                                          |  <code>sudo dnf install numpy</code>\n",
    " \n",
    "    \n",
    "\n",
    "- **Installing Matplotlib on Windows**\n",
    " -  Open command line interface (CMD) use the next command to intall **Matplotlib**\n",
    " - <code>python -m pip install numpy</code>\n",
    " \n",
    "<h3 style=\"color:green;\">Testing our installation</h3>\n",
    " -  To ensure we have correctly installed Matplotlib and its dependencies, a very simple test can be carried out in the following manner:"
   ]
  },
  {
   "cell_type": "code",
   "execution_count": null,
   "metadata": {},
   "outputs": [],
   "source": [
    "import numpy\n",
    "print(\"Numpy version : \", numpy.__version__)"
   ]
  },
  {
   "cell_type": "markdown",
   "metadata": {},
   "source": [
    "<h2 style=\"color:red; text-align:center;\">Creating NumPy arrays</h2>\n",
    "\n",
    " - There are multiple ways to create a numpy array, most of which will be covered as you read this. However one of the most common ways is to create one from a list or a list like an object by passing it to the `np.array` function."
   ]
  },
  {
   "cell_type": "code",
   "execution_count": null,
   "metadata": {},
   "outputs": [],
   "source": [
    "# Create an 1d array from a list\n",
    "import numpy as np\n",
    "list1 = [0,1,2,3,4]\n",
    "arr1d = np.array(list1)\n",
    "\n",
    "# Print the array and its type\n",
    "print(type(arr1d))\n",
    "arr1d"
   ]
  },
  {
   "cell_type": "code",
   "execution_count": null,
   "metadata": {},
   "outputs": [],
   "source": [
    "# Create a 2d array from a list of lists\n",
    "list2 = [[0,1,2], [3,4,5], [6,7,8]]\n",
    "\n",
    "arr2d = np.array(list2)\n",
    "\n",
    "arr2d"
   ]
  },
  {
   "cell_type": "code",
   "execution_count": null,
   "metadata": {},
   "outputs": [],
   "source": [
    "# Create a float 2d array\n",
    "arr2d_f = np.array(list2, dtype='float')\n",
    "\n",
    "arr2d_f"
   ]
  },
  {
   "cell_type": "code",
   "execution_count": null,
   "metadata": {},
   "outputs": [],
   "source": [
    "# Convert to 'int' datatype\n",
    "arr2d_f.astype('int')"
   ]
  },
  {
   "cell_type": "code",
   "execution_count": null,
   "metadata": {},
   "outputs": [],
   "source": [
    "# Convert an array back to a list\n",
    "arr2d_f.tolist()"
   ]
  },
  {
   "cell_type": "markdown",
   "metadata": {},
   "source": [
    "<h2 style=\"color:red; text-align:center;\">NumPy arrays operations</h2>\n",
    "Different operations can be applied to numpy array like arithmetic and logical operations:-"
   ]
  },
  {
   "cell_type": "code",
   "execution_count": null,
   "metadata": {},
   "outputs": [],
   "source": [
    "import numpy as np \n",
    "\n",
    "x = np.array([[1,2,3,4],[5,6,7,8]])\n",
    "\n",
    "y = np.array([[9,10,11,12],[13,14,15,16]])"
   ]
  },
  {
   "cell_type": "code",
   "execution_count": null,
   "metadata": {},
   "outputs": [],
   "source": [
    "np.add(x,y) # x+y"
   ]
  },
  {
   "cell_type": "code",
   "execution_count": null,
   "metadata": {},
   "outputs": [],
   "source": [
    "#Getting reminder\n",
    "np.remainder(y,x)"
   ]
  },
  {
   "cell_type": "code",
   "execution_count": null,
   "metadata": {},
   "outputs": [],
   "source": [
    "#powering an ndarray\n",
    "x**2"
   ]
  },
  {
   "cell_type": "code",
   "execution_count": null,
   "metadata": {},
   "outputs": [],
   "source": [
    "#substracting a ndarray\n",
    "y-x #np.subtract(y,x)"
   ]
  },
  {
   "cell_type": "code",
   "execution_count": null,
   "metadata": {},
   "outputs": [],
   "source": [
    "#logical operator\n",
    "x<5"
   ]
  },
  {
   "cell_type": "markdown",
   "metadata": {},
   "source": [
    "<h2 style=\"color:red; text-align:center;\">Inspecting shape and size</h2>"
   ]
  },
  {
   "cell_type": "code",
   "execution_count": null,
   "metadata": {},
   "outputs": [],
   "source": [
    "# Create a 2d array with 3 rows and 4 columns\n",
    "list2 = [[1, 2, 3, 4],[3, 4, 5, 6], [5, 6, 7, 8]]\n",
    "arr2 = np.array(list2, dtype='float')\n",
    "arr2"
   ]
  },
  {
   "cell_type": "code",
   "execution_count": null,
   "metadata": {
    "scrolled": true
   },
   "outputs": [],
   "source": [
    "# shape\n",
    "print('Shape: ', arr2.shape)"
   ]
  },
  {
   "cell_type": "code",
   "execution_count": null,
   "metadata": {},
   "outputs": [],
   "source": [
    "# dtype\n",
    "print('Datatype: ', arr2.dtype)"
   ]
  },
  {
   "cell_type": "code",
   "execution_count": null,
   "metadata": {},
   "outputs": [],
   "source": [
    "# size\n",
    "print('Size: ', arr2.size)"
   ]
  },
  {
   "cell_type": "markdown",
   "metadata": {},
   "source": [
    "<h2 style=\"color:red; text-align:center;\">Extracting items from an array</h2>\n",
    "\n",
    "- Elements are extracted from specific portions on an array using indexing starting with 0, something similar to python lists.\n",
    "- But unlike lists, numpy arrays can optionally accept as many parameters in the square brackets as there is number of dimensions."
   ]
  },
  {
   "cell_type": "code",
   "execution_count": null,
   "metadata": {},
   "outputs": [],
   "source": [
    "# Extract the first 2 rows and columns\n",
    "arr2[:2, :2]"
   ]
  },
  {
   "cell_type": "code",
   "execution_count": null,
   "metadata": {},
   "outputs": [],
   "source": [
    "#list2[:2, :2]  # error"
   ]
  },
  {
   "cell_type": "markdown",
   "metadata": {},
   "source": [
    "<h2 style=\"color:red; text-align:center;\">Reverse rows and columns</h2>"
   ]
  },
  {
   "cell_type": "markdown",
   "metadata": {},
   "source": [
    "- Reversing an array works like how you would do with lists, but you need to do for all the axes (dimensions) if you want a complete reversal."
   ]
  },
  {
   "cell_type": "code",
   "execution_count": null,
   "metadata": {},
   "outputs": [],
   "source": [
    "# Reverse only the row positions\n",
    "arr2[::-1, ]"
   ]
  },
  {
   "cell_type": "code",
   "execution_count": null,
   "metadata": {},
   "outputs": [],
   "source": [
    "# Reverse the row and column positions\n",
    "arr2[::-1, ::-1]"
   ]
  },
  {
   "cell_type": "markdown",
   "metadata": {},
   "source": [
    "<h2 style=\"color:red; text-align:center;\">Computing mean,min,max on the ndarray</h2>"
   ]
  },
  {
   "cell_type": "code",
   "execution_count": null,
   "metadata": {},
   "outputs": [],
   "source": [
    "# mean\n",
    "print(\"Mean value is: \", arr2.mean())"
   ]
  },
  {
   "cell_type": "code",
   "execution_count": null,
   "metadata": {},
   "outputs": [],
   "source": [
    "#max \n",
    "print(\"Max value is: \", arr2.max())"
   ]
  },
  {
   "cell_type": "code",
   "execution_count": null,
   "metadata": {},
   "outputs": [],
   "source": [
    "#min\n",
    "print(\"Min value is: \", arr2.min())"
   ]
  },
  {
   "cell_type": "markdown",
   "metadata": {},
   "source": [
    "<h2 style=\"color:red; text-align:center;\">Reshaping and Flattening multidimensional array</h2>"
   ]
  },
  {
   "cell_type": "markdown",
   "metadata": {},
   "source": [
    "- Reshaping is changing the arrangement of items so that shape of the array changes while maintaining the same number of dimensions.\n",
    "\n",
    "- Flattening, however, will convert a multi-dimensional array to a flat 1d array. And not any other shape.\n",
    "\n"
   ]
  },
  {
   "cell_type": "code",
   "execution_count": null,
   "metadata": {},
   "outputs": [],
   "source": [
    "# Reshape a 3x4 array to 4x3 array\n",
    "arr2.reshape(4, 3)"
   ]
  },
  {
   "cell_type": "code",
   "execution_count": null,
   "metadata": {},
   "outputs": [],
   "source": [
    "# Flatten it to a 1d array\n",
    "arr2.flatten()"
   ]
  },
  {
   "cell_type": "markdown",
   "metadata": {},
   "source": [
    "<h2 style=\"color:red; text-align:center;\">Creating sequences, repetitions, and random numbers</h2>\n",
    "\n",
    "The `np.arange` function comes handy to create customised number sequences as ndarray.You can set the starting and end positions using np.arange."
   ]
  },
  {
   "cell_type": "code",
   "execution_count": null,
   "metadata": {},
   "outputs": [],
   "source": [
    "# Lower limit is 0 be default\n",
    "print(np.arange(5))  "
   ]
  },
  {
   "cell_type": "code",
   "execution_count": null,
   "metadata": {},
   "outputs": [],
   "source": [
    "# 0 to 9\n",
    "print(np.arange(0, 10)) "
   ]
  },
  {
   "cell_type": "code",
   "execution_count": null,
   "metadata": {},
   "outputs": [],
   "source": [
    "# 0 to 9 with step of 2\n",
    "print(np.arange(0, 10, 2))  "
   ]
  },
  {
   "cell_type": "code",
   "execution_count": null,
   "metadata": {},
   "outputs": [],
   "source": [
    "# 10 to 1, decreasing order\n",
    "print(np.arange(10, 0, -1))"
   ]
  },
  {
   "cell_type": "code",
   "execution_count": null,
   "metadata": {},
   "outputs": [],
   "source": [
    "a = [1,2,3] "
   ]
  },
  {
   "cell_type": "code",
   "execution_count": null,
   "metadata": {},
   "outputs": [],
   "source": [
    "# Repeat whole of 'a' two times\n",
    "print('Tile:   ', np.tile(a, 2))"
   ]
  },
  {
   "cell_type": "code",
   "execution_count": null,
   "metadata": {},
   "outputs": [],
   "source": [
    "# Repeat each element of 'a' two times\n",
    "print('Repeat: ', np.repeat(a, 2))"
   ]
  },
  {
   "cell_type": "code",
   "execution_count": null,
   "metadata": {},
   "outputs": [],
   "source": [
    "# Random numbers between [0,1) of shape 2,2\n",
    "print(np.random.rand(2,2))"
   ]
  },
  {
   "cell_type": "code",
   "execution_count": null,
   "metadata": {},
   "outputs": [],
   "source": [
    "# Normal distribution with mean=0 and variance=1 of shape 2,2\n",
    "print(np.random.randn(2,2))"
   ]
  },
  {
   "cell_type": "code",
   "execution_count": null,
   "metadata": {},
   "outputs": [],
   "source": [
    "# Random integers between [0, 10) of shape 2,2\n",
    "print(np.random.randint(0, 10, size=[2,2]))"
   ]
  },
  {
   "cell_type": "code",
   "execution_count": null,
   "metadata": {},
   "outputs": [],
   "source": [
    "# One random number between [0,1)\n",
    "print(np.random.random())"
   ]
  },
  {
   "cell_type": "code",
   "execution_count": null,
   "metadata": {},
   "outputs": [],
   "source": [
    "# Random numbers between [0,1) of shape 2,2\n",
    "print(np.random.random(size=[2,2]))"
   ]
  },
  {
   "cell_type": "code",
   "execution_count": null,
   "metadata": {},
   "outputs": [],
   "source": [
    "# Pick 10 items from a given list, with equal probability\n",
    "print(np.random.choice(['a', 'e', 'i', 'o', 'u'], size=10))  "
   ]
  },
  {
   "cell_type": "code",
   "execution_count": null,
   "metadata": {},
   "outputs": [],
   "source": [
    "# Pick 10 items from a given list with a predefined probability 'p'\n",
    "print(np.random.choice(['a', 'e', 'i', 'o', 'u'], size=10, p=[0.3, .1, 0.1, 0.4, 0.1]))  # picks more o's"
   ]
  },
  {
   "cell_type": "markdown",
   "metadata": {},
   "source": [
    "<h2 style=\"color:red; text-align:center;\">Getting unique items and count</h2>"
   ]
  },
  {
   "cell_type": "code",
   "execution_count": null,
   "metadata": {},
   "outputs": [],
   "source": [
    "# Create random integers of size 10 between [0,10)\n",
    "np.random.seed(100)\n",
    "arr_rand = np.random.randint(0, 10, size=10)"
   ]
  },
  {
   "cell_type": "code",
   "execution_count": null,
   "metadata": {},
   "outputs": [],
   "source": [
    "print(arr_rand)"
   ]
  },
  {
   "cell_type": "code",
   "execution_count": null,
   "metadata": {},
   "outputs": [],
   "source": [
    "# Get the unique items and their counts\n",
    "uniqs, counts = np.unique(arr_rand, return_counts=True)"
   ]
  },
  {
   "cell_type": "code",
   "execution_count": null,
   "metadata": {},
   "outputs": [],
   "source": [
    "print(\"Unique items : \", uniqs)\n",
    "print(\"Counts       : \", counts)"
   ]
  }
 ],
 "metadata": {
  "kernelspec": {
   "display_name": "Python 3.9.2 64-bit",
   "language": "python",
   "name": "python3"
  },
  "language_info": {
   "codemirror_mode": {
    "name": "ipython",
    "version": 3
   },
   "file_extension": ".py",
   "mimetype": "text/x-python",
   "name": "python",
   "nbconvert_exporter": "python",
   "pygments_lexer": "ipython3",
   "version": "3.9.2"
  },
  "latex_envs": {
   "LaTeX_envs_menu_present": true,
   "autoclose": false,
   "autocomplete": true,
   "bibliofile": "biblio.bib",
   "cite_by": "apalike",
   "current_citInitial": 1,
   "eqLabelWithNumbers": true,
   "eqNumInitial": 1,
   "hotkeys": {
    "equation": "Ctrl-E",
    "itemize": "Ctrl-I"
   },
   "labels_anchors": false,
   "latex_user_defs": false,
   "report_style_numbering": false,
   "user_envs_cfg": false
  },
  "vscode": {
   "interpreter": {
    "hash": "916dbcbb3f70747c44a77c7bcd40155683ae19c65e1c03b4aa3499c5328201f1"
   }
  }
 },
 "nbformat": 4,
 "nbformat_minor": 2
}
