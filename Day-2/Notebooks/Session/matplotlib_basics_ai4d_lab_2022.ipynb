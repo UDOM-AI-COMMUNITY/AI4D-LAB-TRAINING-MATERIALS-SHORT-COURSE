{
 "cells": [
  {
   "cell_type": "markdown",
   "metadata": {
    "deletable": false,
    "editable": false
   },
   "source": [
    "<br>\n",
    "<br>\n",
    "<div>\n",
    "<img  style=\"float: left; padding-right: 100px; width: 350px\" src=\"../images/africa-no-words.png\">\n",
    "    </div>\n",
    "    <br>\n",
    "    <h2 align=\"center\">AI4D-Lab | AI Short Course</h2>\n",
    "<hr>\n",
    "<h4 align=\"center\"><a href=\"https://t.co/IoL5C0LiPX\">Zephania Reuben</a></h4>\n",
    "<h4 align=\"center\">July, 2022</h4>\n",
    "<hr>\n",
    "<h3 align=\"center\">The University of Dodoma - CIVE</h3>\n",
    "<hr>\n",
    "<br>\n",
    "<br>\n",
    "<h3 align=\"center\">DATA VISUALIZATION | MATPLOTLIB</h3>\n",
    "<br>"
   ]
  },
  {
   "cell_type": "markdown",
   "metadata": {
    "deletable": false,
    "editable": false,
    "trustable": true
   },
   "source": [
    "<h3 style=\"color:green\">OUTLINES:</h3>\n",
    "\n",
    "- **<span>Introduction to matplotlib**\n",
    "- **<span>Getting started with matplotlib</span>**\n",
    "- **<span>Decorate Graphs with Plot Styles and Types</span>**"
   ]
  },
  {
   "cell_type": "markdown",
   "metadata": {
    "deletable": false,
    "editable": false
   },
   "source": [
    "<h1 style=\"color:red; text-align:center;\">1.0 Introduction to Matplotlib</h1>\n",
    "<h2 style=\"color:green;\">What is Matplotlib?</h2>    \n",
    "\n",
    "  - **Matplotlib**     is a Python package for 2D plotting that generates production-quality graphs. It supports interactive and non-interactive plotting, and can save images in several output formats (PNG, PS, and others).\n",
    "  - It provides a wide variety of plot types (lines, bars, pie charts, histograms, and many more). In addition to this, it is highly customizable, flexible, and easy to use.\n",
    "  - The dual nature of Matplotlib allows it to be used in both interactive and non-interactive scripts. It can be used in scripts without a graphical display, embedded in graphical applications, or on web pages. It can also be used interactively with the Python interpreter or IPython.\n",
    "  - **Matplotlib** was born in the scientific area of computing, where **gnuplot** and **MATLAB** were (and still are) used a lot.\n",
    "  - **Matplotlib** was modeled on **MATLAB**, because graphing was something that MATLAB did very well. The high degree of compatibility between them made many people move from **MATLAB** to **Matplotlib**.\n",
    "  \n",
    "<h2 style=\"color:green;\">But what are the points that built the success of Matplotlib?</h2>  \n",
    "\n",
    "Let's look at some of them:\n",
    " \n",
    " - **It uses Python:** \n",
    "  - Python is a very interesting language for scientific purposes (it's interpreted, high-level, easy to learn, easily extensible, and has a powerful standard library) and is now used by major institutions such as NASA, JPL, Google, DreamWorks, Disney, and many more.\n",
    "  \n",
    " - **It's open source, so no license to pay:**\n",
    "  - This makes it very appealing for professors and students, who often have a low budget.\n",
    "  \n",
    " -  **It's very customizable and extensible:** \n",
    "  - Matplotlib can fit every use case because it has a lot of graph types, features, and configuration options.\n",
    "  \n",
    " - **It's cross-platform and portable:** \n",
    "  - Matplotlib can run on Linux, Windows,Mac OS X, and Sun Solaris (and Python can run on almost every architecture available).\n",
    "  \n",
    "<h2 style=\"color:green;\">About dependencies</h2>  \n",
    "\n",
    " - Matplotlib has its origin in scientific fields, so it is commonly used to plot huge datasets. Python's native support for long lists becomes impractical for such sizes, so Matplotlib needs better support for arrays, so NumPy has to be available to use Matplotlib.\n",
    " - **Build dipendencies**\n",
    "  - **Python:** Version (>=3.6)\n",
    "  - **NumPy:** Version (>=1.11) \n",
    "  - **libpng:** Version 1.2 or higher is needed to load or save PNG images (Windows users can skip this requirement)\n",
    "  - **FreeType:** Version 2.3 or higher is needed for reading TrueType font files (Windows users can skip this requirement)\n",
    "  \n",
    "<h2 style=\"color:green;\">Installing Matplotlib</h2>  \n",
    "\n",
    "- **Installing Matplotlib on Linux**\n",
    " - In the following table, we will present some of the common Linux distributions package names for Matplotlib and the tools we can use to install the package:\n",
    " \n",
    "**Distribution**        |       **Package Name**\n",
    "----------------------  |  -------------------------------\n",
    "Debian or Ubuntu (And other Debian derivatives)                 |  <code>sudo apt-get install python3-matplotlib</code>\n",
    "Fedora                                                          |  <code>sudo dnf install python3-matplotlib</code>\n",
    "Red hat                                                         |  <code>sudo yum install python3-matplotlib</code>\n",
    "Arch                                                            |  <code>sudo pacman -S python-matplotlib</code>\n",
    "\n",
    "\n",
    "- **Installing Matplotlib on Windows**\n",
    " -  Open command line interface (CMD) use the next command to intall **Matplotlib**\n",
    " - <code>python -m pip install matplotlib</code>\n",
    " \n",
    "<h2 style=\"color:green;\">Testing our installation</h2>\n",
    " -  To ensure we have correctly installed Matplotlib and its dependencies, a very simple test can be carried out in the following manner:"
   ]
  },
  {
   "cell_type": "code",
   "execution_count": null,
   "metadata": {
    "deletable": false,
    "editable": false
   },
   "outputs": [],
   "source": [
    "import matplotlib\n",
    "print(\"Matplotlib version : \", matplotlib.__version__)\n",
    "import numpy\n",
    "print(\"Numpy version : \", numpy.__version__)"
   ]
  },
  {
   "cell_type": "markdown",
   "metadata": {
    "deletable": false,
    "editable": false
   },
   "source": [
    "<h1 style=\"color:red; text-align:center;\">2.0 Getting started with Matplotlib</h1>\n",
    "\n",
    "<h2 style=\"color:green\">First plots with Matplotlib</h2>\n"
   ]
  },
  {
   "cell_type": "code",
   "execution_count": null,
   "metadata": {
    "deletable": false,
    "scrolled": true
   },
   "outputs": [],
   "source": [
    "import matplotlib.pyplot as plt\n",
    "plt.plot([1, 3, 2, 4])\n",
    "plt.show()"
   ]
  },
  {
   "cell_type": "markdown",
   "metadata": {
    "deletable": false,
    "editable": false
   },
   "source": [
    "Let's look at each line of the previous code in detail:\n",
    "```python \n",
    " [1]: import matplotlib.pyplot as plt\n",
    "```\n",
    "- This is the preferred format to import the main Matplotlib submodule for plotting, pyplot. It's the best practice and in order to avoid pollution of the global namespace, it's strongly encouraged to never import like:\n",
    "```python\n",
    "from <module> import *\n",
    "```\n",
    "\n",
    "```python\n",
    " [2]: plt.plot([1, 3, 2, 4])\n",
    "```    \n",
    "\n",
    "- This code line is the actual plotting command. We have specified only a list of values that represent the vertical coordinates of the points to be plotted. Matplotlib will  use an implicit horizontal values list, from 0 (the first value) to N-1 (where N is the number of items in the list).\n",
    "\n",
    "```python\n",
    " [3]: plt.show()\n",
    "```\n",
    "\n",
    " - This command actually opens the window containing the plot image.\n",
    " \n",
    " - Of course, we can also explicitly specify both the lists:"
   ]
  },
  {
   "cell_type": "code",
   "execution_count": null,
   "metadata": {
    "deletable": false
   },
   "outputs": [],
   "source": [
    "import matplotlib.pyplot as plt\n",
    "x = range(6)\n",
    "plt.plot(x, [xi**2 for xi in x])\n",
    "plt.show()"
   ]
  },
  {
   "cell_type": "markdown",
   "metadata": {
    "deletable": false,
    "editable": false
   },
   "source": [
    "- we can start introducing the interaction with NumPy with one of its most used functions, *arange()*, and highlighting the difference with *range()*:\n",
    " - <code>range(i, j, k)</code> is a Python built-in function that generates a sequence of integers from i to j with an increment of k (both, the initial value and the step are optional).\n",
    " - <code>arange(x, y, z)</code> is a part of NumPy, and it generates a sequence of elements (with data type determined by parameter types) from x to y with a spacing z (with the same optional parameters as that of the previous function).\n",
    " \n",
    " \n",
    "- Let's use *arange()*"
   ]
  },
  {
   "cell_type": "code",
   "execution_count": null,
   "metadata": {
    "deletable": false
   },
   "outputs": [],
   "source": [
    "import matplotlib.pyplot as plt\n",
    "import numpy as np\n",
    "x = np.arange(0.0, 6.0, 0.01)\n",
    "plt.plot(x, [x**2 for x in x])\n",
    "plt.show()"
   ]
  },
  {
   "cell_type": "markdown",
   "metadata": {
    "deletable": false,
    "editable": false
   },
   "source": [
    "<h2 style=\"color:green\">Multiline plots</h2>\n",
    "\n",
    " - It's fun to plot a line, but it's even more fun when we can plot more than one line on the same figure. This is really easy with Matplotlib as we can simply plot all the lines that we want before calling <code>show()</code>."
   ]
  },
  {
   "cell_type": "code",
   "execution_count": null,
   "metadata": {
    "deletable": false
   },
   "outputs": [],
   "source": [
    "import matplotlib.pyplot as plt\n",
    "import numpy as np\n",
    "x = np.arange(5)\n",
    "plt.plot(x,[y*1.3 for y in x])\n",
    "plt.plot(x,[y*3 for y in x])\n",
    "plt.plot(x,[y/3 for y in x])\n",
    "plt.show()"
   ]
  },
  {
   "cell_type": "markdown",
   "metadata": {
    "deletable": false,
    "editable": false
   },
   "source": [
    "- **Note** how Matplotlib automatically chooses different colors for each line—green for the first line, blue for the second line, and red for the third one (from bottom to top).\n",
    "\n",
    "- <code>plot()</code> supports another syntax useful in this situation. We can plot multiline figures by passing the X and Y values list in a single <code>plot()</code> call:"
   ]
  },
  {
   "cell_type": "code",
   "execution_count": null,
   "metadata": {
    "deletable": false,
    "editable": false
   },
   "outputs": [],
   "source": [
    "import matplotlib.pyplot as plt\n",
    "x = range(5)\n",
    "plt.plot(x, [xi*1.5 for xi in x], x, [xi*3.0 for xi in x], x,[xi/3.0 for xi in x])\n",
    "In [4]: plt.show()"
   ]
  },
  {
   "cell_type": "markdown",
   "metadata": {
    "deletable": false,
    "editable": false
   },
   "source": [
    "<h2 style=\"color:green\">Grid, axes, and labels</h2>\n",
    "\n",
    "- **Adding grid**\n",
    " - In the previous images, we saw that the background of the figure was completely blank.\n",
    " - While it might be nice for some plots, there are situations where having a reference system would improve the comprehension of the plot—for example with multiline plots. We can add a grid to the plot by calling the <code>grid()</code> function; \n",
    " -it takes one parameter, a Boolean value, to enable (if True) or disable (if False) the grid:"
   ]
  },
  {
   "cell_type": "code",
   "execution_count": null,
   "metadata": {
    "deletable": false
   },
   "outputs": [],
   "source": [
    "import matplotlib.pyplot as plt\n",
    "import numpy as np\n",
    "x = np.arange(5)\n",
    "plt.plot(x, x*1.5, x, x*3.0, x, x/3.0)\n",
    "In [5]: plt.grid(True)\n",
    "In [6]: plt.show()"
   ]
  },
  {
   "cell_type": "markdown",
   "metadata": {
    "deletable": false,
    "editable": false
   },
   "source": [
    "- **Handling axes**\n",
    " - You might have noticed that Matplotlib automatically sets the limits of the figure to precisely contain the plotted datasets. \n",
    " - However, sometimes we want to set the axes limits ourself (defining the scale of the chart). Let's take the first multiline plot.\n",
    " - Wouldn't it be better to have more spaces between lines and borders? We can achieve this with the following code:"
   ]
  },
  {
   "cell_type": "code",
   "execution_count": null,
   "metadata": {
    "deletable": false
   },
   "outputs": [],
   "source": [
    "import matplotlib.pyplot as plt\n",
    "import numpy as np\n",
    "x = np.arange(5)\n",
    "plt.plot(x, x*1.5, x, x*3.0, x, x/3.0)\n",
    "plt.axis() # shows the current axis limits values"
   ]
  },
  {
   "cell_type": "code",
   "execution_count": null,
   "metadata": {
    "deletable": false
   },
   "outputs": [],
   "source": [
    "import matplotlib.pyplot as plt\n",
    "import numpy as np\n",
    "x = np.arange(5)\n",
    "plt.plot(x, x*1.5, x, x*3.0, x, x/3.0)\n",
    "plt.axis([0, 5, -1, 13]) # set new axes limits\n",
    "plt.show()"
   ]
  },
  {
   "cell_type": "markdown",
   "metadata": {
    "deletable": false,
    "editable": false
   },
   "source": [
    " - If we execute axis() without parameters, it returns the actual axis limits. There are two ways to pass parameters to axis(): by a list of four values or by keyword arguments.\n",
    " - The list of values, that's the whole set of four values of keyword arguments [xmin, xmax, ymin, ymax], allows us to specify at the same time, the minimum and maximum limits respectively for the X-axis and the Y-axis. We can use the specific keyword arguments, for example:\n",
    "```pyhton\n",
    "plt.axis(xmin=NNN, ymax=NNN)\n",
    "```\n",
    " - If we wish to set only some of these limits (in the previous line, we set only the minimum value for X-axis and the maximum value for Y-axis).\n",
    " - We can also control the limits for each axis separately using <code>xlim()</code> and <code>ylim()</code> functions. Let's take the previous code before calling the axis() function, and change it in the following way:"
   ]
  },
  {
   "cell_type": "code",
   "execution_count": null,
   "metadata": {
    "deletable": false
   },
   "outputs": [],
   "source": [
    "import matplotlib.pyplot as plt\n",
    "import numpy as np\n",
    "x = np.arange(5)\n",
    "plt.plot(x, x*1.5, x, x*3.0, x, x/3.0)\n",
    "print(plt.xlim())\n",
    "print(plt.ylim())    "
   ]
  },
  {
   "cell_type": "markdown",
   "metadata": {
    "deletable": false,
    "editable": false
   },
   "source": [
    "- Also for <code>xlim()</code> and <code>ylim()</code>, we can pass a list of two values (for example,\n",
    "<code>xlim([xmin, xmax]))</code>, or use the keyword arguments.\n",
    "\n",
    "\n",
    "<h2 style=\"color:green\">Adding labels</h2>\n",
    "\n",
    " - Now that we know how to manage the axes dimensions, another important piece of information to add to a plot is the axes labels, since they usually specify what kind of data we are plotting.\n",
    " - Then add the <code>xlabel()</code> and <code>ylabel()</code> functions"
   ]
  },
  {
   "cell_type": "code",
   "execution_count": null,
   "metadata": {
    "deletable": false
   },
   "outputs": [],
   "source": [
    "import matplotlib.pyplot as plt\n",
    "plt.plot([1, 3, 2, 4])\n",
    "plt.xlabel('This is the X axis')\n",
    "plt.ylabel('This is the Y axis')\n",
    "plt.show()"
   ]
  },
  {
   "cell_type": "markdown",
   "metadata": {
    "deletable": false,
    "editable": false
   },
   "source": [
    "<h2 style=\"color:green\">Titles and legends</h2>\n",
    "\n",
    "- We are about to introduce two other important plot features titles and legends\n",
    "- **Adding a title**\n",
    " - Just like in a book or a paper, the title of a graph describes what it is:"
   ]
  },
  {
   "cell_type": "code",
   "execution_count": null,
   "metadata": {
    "deletable": false
   },
   "outputs": [],
   "source": [
    "import matplotlib.pyplot as plt\n",
    "plt.plot([1, 3, 2, 4])\n",
    "plt.title('Simple plot')\n",
    "plt.show()"
   ]
  },
  {
   "cell_type": "markdown",
   "metadata": {
    "deletable": false,
    "editable": false
   },
   "source": [
    "  - Matplotlib provides a simple function, <code>plt.title()</code>, to add a title to an image, as shown in the previous code.\n",
    "  \n",
    "- **Adding a legend**\n",
    "  - The last thing we need to see to complete a basic plot is a legend\n",
    "  - **Legends** are used to explain what each line means in the current figure. Let's take the multiline plot example again, and extend it with a legend:"
   ]
  },
  {
   "cell_type": "code",
   "execution_count": null,
   "metadata": {
    "deletable": false
   },
   "outputs": [],
   "source": [
    "import matplotlib.pyplot as plt\n",
    "import numpy as np\n",
    "x = np.arange(5)\n",
    "plt.plot(x, x*1.5, label='Normal')\n",
    "plt.plot(x, x*3.0, label='Fast')\n",
    "plt.plot(x, x/3.0, label='Slow')\n",
    "plt.legend()\n",
    "plt.show()"
   ]
  },
  {
   "cell_type": "markdown",
   "metadata": {
    "deletable": false,
    "editable": false
   },
   "source": [
    "- The <code>legend()</code> function allows us to select several locations, which can be specified as an optional argument (or with thekeyword argument, loc). \n",
    "- The following table gives us the various positions at which the legend could be placed along with the equivalent codes for these positions.\n",
    "\n",
    "String     |     Code\n",
    "------------|----------\n",
    "best |  0\n",
    "upper right | 1\n",
    "upper left  | 2\n",
    "lower left  | 3\n",
    "lower right | 4\n",
    "right     | 5\n",
    "center left | 6\n",
    "center right |  7\n",
    "lower center | 8\n",
    "upper center | 9\n",
    "center | 10\n",
    "\n",
    "- An interesting functionality is the auto-legend positioning setting <code>loc='best'</code>, Matplotlib automatically tries to find the the optimal legend position. \n",
    "- Another nice argument we'd like to mention is <code>ncol</code>; this argument specifies how many columns to use to layout the legend items.\n",
    "\n",
    "<h2 style=\"color:green\">Saving plots to a file</h2>\n",
    "- Saving a plot to a file is an easy task. The following example shows how:"
   ]
  },
  {
   "cell_type": "code",
   "execution_count": null,
   "metadata": {
    "deletable": false
   },
   "outputs": [],
   "source": [
    "import matplotlib.pyplot as plt\n",
    "plt.plot([1, 2, 3])\n",
    "plt.savefig('plot123.png')"
   ]
  },
  {
   "cell_type": "markdown",
   "metadata": {
    "deletable": false,
    "editable": false
   },
   "source": [
    "<h1 style=\"color:red; text-align:center;\">3.0 Decorate Graphs with Plot Styles and Types</h1>"
   ]
  },
  {
   "cell_type": "markdown",
   "metadata": {
    "deletable": false,
    "editable": false
   },
   "source": [
    "<h2 style=\"color:green;\">Control colors</h2>\n",
    "\n",
    "  - We've already seen that in a multiline plot, Matplotlib automatically chooses different colors for different lines. We are also free to choose them by ourselves:"
   ]
  },
  {
   "cell_type": "code",
   "execution_count": null,
   "metadata": {
    "deletable": false
   },
   "outputs": [],
   "source": [
    "import matplotlib.pyplot as plt\n",
    "import numpy as np\n",
    "y = np.arange(1, 3)\n",
    "plt.plot(y, 'y');\n",
    "plt.plot(y+1, 'm');\n",
    "plt.plot(y+2, 'c');\n",
    "plt.show()"
   ]
  },
  {
   "cell_type": "markdown",
   "metadata": {
    "deletable": false,
    "editable": false
   },
   "source": [
    " - Here is a table of the abbreviations used to select colors:\n",
    " \n",
    " \n",
    "**Color abbreviation** |  **Color Name**\n",
    "----------------------- | --------------------\n",
    "b                     | blue\n",
    "c                     | cyan\n",
    "g                     | green\n",
    "k                     | black\n",
    "m                     | magenta\n",
    "r                     | red\n",
    "w                     | white\n",
    "y                     | yellow\n",
    "\n",
    "\n",
    "<h2 style=\"color:green;\">Control line styles</h2>\n",
    "\n",
    " - All the lines seen until now are proper ones without any dots or dashes. Matplotlib allows us to use different line styles, for example:"
   ]
  },
  {
   "cell_type": "code",
   "execution_count": null,
   "metadata": {
    "deletable": false
   },
   "outputs": [],
   "source": [
    "import matplotlib.pyplot as plt\n",
    "import numpy as np\n",
    "y = np.arange(1, 3)\n",
    "plt.plot(y,'--', y+1, '-.', y+2, ':');\n",
    "plt.show()"
   ]
  },
  {
   "cell_type": "markdown",
   "metadata": {
    "deletable": false,
    "editable": false
   },
   "source": [
    "**Style abbreviation**     |   **Style**\n",
    "----------------------------|----------\n",
    "**-**  |             solid line\n",
    "**--**  |             dashed line\n",
    "**-.** |             dash-dot line\n",
    "**:**  |             dotted line"
   ]
  },
  {
   "cell_type": "markdown",
   "metadata": {},
   "source": [
    "<h2 style=\"color:green;\">Control marker styles</h2>\n",
    "\n",
    " - Markers are, by default, drawn as point markers. They are just a location on the figure where segments join.\n",
    " - Matplotlib provides a lot of customization options for markers. The following table contains a list of the some styles:\n",
    " \n",
    "**Marker abbreviation** |   **Marker style**\n",
    "--------------------|---------------------\n",
    "**.** | **Point marker**\n",
    "**,** | **Pixel marker**\n",
    "**o** | **Circle marker**\n",
    "**v** | **Triangle down marker**\n",
    "**^** | **Triangle up marker**\n",
    "**<** | **Triangle left marker**\n",
    "**>** | **Triangle right marker**\n",
    "\n",
    "- Let's look at some of them:"
   ]
  },
  {
   "cell_type": "code",
   "execution_count": null,
   "metadata": {
    "deletable": false
   },
   "outputs": [],
   "source": [
    "import matplotlib.pyplot as plt\n",
    "import numpy as np\n",
    "y = np.arange(1, 3, 0.2)\n",
    "plt.plot(y, '>', y+0.5, 'o', y+1, 'v', y+1.5, '^', y+2, ',');\n",
    "plt.show()"
   ]
  },
  {
   "cell_type": "markdown",
   "metadata": {
    "deletable": false,
    "editable": false
   },
   "source": [
    "<h2 style=\"color:green;\">Control marker styles</h2>\n",
    "\n",
    "- Format strings are really useful, but they have some drawbacks. For example, they don't allow us to specify different colors for lines and markers, as we saw in the previous example.\n",
    "- <code>plot()</code> is a really rich function, and there are some keyword arguments to configure colors, markers, and line styles:\n",
    "\n",
    "**Keyword argument** |  **Description**\n",
    "----------------------|----------------------------------\n",
    "**color or c** |  Sets the color of the line; accepts any Matplotlib color format.\n",
    "**linestyle** | Sets the line style; accepts the line styles seen previously.\n",
    "**linewidth** | Sets the line width; accepts a float value in points.\n",
    "**marker** |  Sets the line marker style.\n",
    "**markeredgecolor** | Sets the marker edge color; accepts any Matplotlib colorformat.\n",
    "**markeredgewidth** | Sets the marker edge width; accepts float value in points.\n",
    "**markerfacecolor** | Sets the marker face color; accepts any Matplotlib color format.\n",
    "**markersize** | Sets the marker size in points; accepts float values."
   ]
  },
  {
   "cell_type": "code",
   "execution_count": null,
   "metadata": {
    "deletable": false
   },
   "outputs": [],
   "source": [
    "import matplotlib.pyplot as plt\n",
    "import numpy as np\n",
    "y = np.arange(1, 3, 0.3)\n",
    "plt.plot(y, color='blue', linestyle='dashdot', linewidth=4,\n",
    "marker='o', markerfacecolor='red', markeredgecolor='black',\n",
    "markeredgewidth=3, markersize=12);\n",
    "plt.show()"
   ]
  },
  {
   "cell_type": "markdown",
   "metadata": {
    "deletable": false,
    "editable": false
   },
   "source": [
    "<h2 style=\"color:green;\">Handling X and Y ticks</h2>\n",
    "\n",
    "- Matplotlib provides two basic functions to manage them—xticks() and yticks(). They behave in the same way, so the description for one function will apply to the other too.\n",
    "- Executing with no arguments, the tick function returns the current ticks' locations and the labels corresponding to each of them:\n",
    "```python\n",
    "locs, labels = plt.xticks()\n",
    "```\n",
    "\n",
    "- The arguments (in the form of lists) that we can pass to the function are:\n",
    " - **Locations of the ticks**\n",
    " - **Labels to draw at these locations (if necessary)**\n",
    "- Let's try to explain it with an example:"
   ]
  },
  {
   "cell_type": "code",
   "execution_count": null,
   "metadata": {
    "deletable": false
   },
   "outputs": [],
   "source": [
    "import matplotlib.pyplot as plt\n",
    "x = [5, 3, 7, 2, 4, 1]\n",
    "plt.plot(x)\n",
    "plt.xticks(range(len(x)), ['a', 'b', 'c', 'd', 'e', 'f'])\n",
    "plt.yticks(range(1, 8, 2))\n",
    "plt.show()"
   ]
  },
  {
   "cell_type": "markdown",
   "metadata": {
    "deletable": false,
    "editable": false
   },
   "source": [
    "<h2 style=\"color:green;\">Plot types</h2>\n",
    "\n",
    "<h3 style=\"color:red;\">Histogram charts</h3>\n",
    "\n",
    "- Histogram charts are a graphical display of frequencies, represented as bars.\n",
    "- They show what portion of the dataset falls into each category, usually specified as non-overlapping intervals. Matplotlib calls those categories <code>bins</code>."
   ]
  },
  {
   "cell_type": "code",
   "execution_count": null,
   "metadata": {
    "deletable": false
   },
   "outputs": [],
   "source": [
    "import matplotlib.pyplot as plt\n",
    "import numpy as np\n",
    "y = np.random.randn(1000)\n",
    "plt.hist(y)\n",
    "plt.show()"
   ]
  },
  {
   "cell_type": "markdown",
   "metadata": {
    "deletable": false,
    "editable": false
   },
   "source": [
    "- Histogram plots group up values into bins of values. By default, <code>hist()</code> uses a <code>bin</code> value of <code>10</code> (so only ten categories, or bars, are computed), but we can customize it, either by passing an additional parameter, for example, in <code>hist(y, <bins>)</code>, or using the bin keyword argument as <code>hist(y, bin=<bins>)</code>.\n",
    "- Replotting the previous dataset, but with <code>bin=25</code>:"
   ]
  },
  {
   "cell_type": "code",
   "execution_count": null,
   "metadata": {
    "deletable": false
   },
   "outputs": [],
   "source": [
    "import matplotlib.pyplot as plt\n",
    "import numpy as np\n",
    "y = np.random.randn(1000)\n",
    "plt.hist(y,bins=25)\n",
    "plt.show()"
   ]
  },
  {
   "cell_type": "markdown",
   "metadata": {
    "deletable": false,
    "editable": false
   },
   "source": [
    "<h3 style=\"color:red;\">Bar charts</h3>\n",
    "\n",
    "- Bar charts display rectangular bars (either vertical or horizontal) with their length proportional to the values they represent. They are commonly used to visually compare two or more values.\n",
    "- The <code>bar()</code> function is used to generate bar charts in Matplotlib. The function expects two lists of values: the X coordinates that are the positions of the bar's left margin and the heights of the bars:"
   ]
  },
  {
   "cell_type": "code",
   "execution_count": null,
   "metadata": {
    "deletable": false
   },
   "outputs": [],
   "source": [
    "import matplotlib.pyplot as plt\n",
    "plt.bar([1, 2, 3], [3, 2, 5]);\n",
    "plt.show()"
   ]
  },
  {
   "cell_type": "markdown",
   "metadata": {
    "deletable": false,
    "editable": false
   },
   "source": [
    "<h3 style=\"color:red;\">Pie charts</h3>\n",
    "\n",
    "- Pie charts are circular representations, divided into sectors (also called wedges). The arc length of each sector is proportional to the quantity we're describing. \n",
    "- It's an effective way to represent information when we are interested mainly in comparing the wedge against the whole pie, instead of wedges against each other.\n",
    "- Matplotlib provides the <code>pie()</code> function to plot pie charts from an array X. Wedges are created proportionally, so that each value x of array X generates a wedge proportional to x/sum(X).\n",
    "- Please note that if sum(X) is less than 1, then the pie is drawn using X values directly and no normalization is done, resulting in a pie with discontinuity.\n",
    "- In the next example, we are going to plot a simple pie, using the legend keyword argument to give names to the wedges:"
   ]
  },
  {
   "cell_type": "code",
   "execution_count": null,
   "metadata": {
    "deletable": false
   },
   "outputs": [],
   "source": [
    "import matplotlib.pyplot as plt\n",
    "plt.figure(figsize=(3,3));\n",
    "x = [45, 35, 20]\n",
    "labels = ['Cats', 'Dogs', 'Fishes']\n",
    "plt.pie(x, labels=labels);\n",
    "plt.show()"
   ]
  },
  {
   "cell_type": "markdown",
   "metadata": {
    "deletable": false,
    "editable": false
   },
   "source": [
    "<h3 style=\"color:red;\">Scatter plots</h3>\n",
    "\n",
    "- Scatter plots display values for two sets of data. The data visualization is done as a collection of points not connected by lines. Each of them has its coordinates determined by the value of the variables (one variable determines the X position, the other the Y position).\n",
    "- A scatter plot is often used to identify potential association between two variables, and it's often drawn before working on a fitting regression function. It gives a good visual picture of the correlation, in particular for nonlinear relationships.\n",
    "- Matplotlib provides the <code>scatter()</code> function to plot X versus Y unidimensional array of the same length as scatter plot."
   ]
  },
  {
   "cell_type": "code",
   "execution_count": null,
   "metadata": {
    "deletable": false
   },
   "outputs": [],
   "source": [
    "import matplotlib.pyplot as plt\n",
    "import numpy as np\n",
    "x = np.random.randn(1000)\n",
    "y = np.random.randn(1000)\n",
    "plt.scatter(x, y);\n",
    "plt.show()"
   ]
  },
  {
   "cell_type": "markdown",
   "metadata": {
    "deletable": false,
    "editable": false
   },
   "source": [
    "- We can decorate the chart by using some of the following keyword arguments:\n",
    "- **s**: This stands for the size of the markers in pixel*pixel. It can be a singlevalue (to be used for all the points) or an array of the same size of X and Y (so that each point will have its own size).\n",
    "- **c**: This is the points color. It can be a single value or a list of colors (that will be cycled on the points plotted) eventually of the same size of X and Y. The values can be the Matplotlib color codes or even numbers mapped to colorsusing color maps.\n",
    "- **marker**: This specifies the marker to use to plot the points; the available values are:\n",
    "\n",
    "\n",
    "**Marker value**  | **Description**\n",
    "-------------------|-----------------\n",
    "**s** | Square\n",
    "**o** | Circle\n",
    "**^** | Triangle up\n",
    "**v** | Triangle down\n",
    "**>** | Triangle right\n",
    "**<** |  Triangle left\n",
    "**d** | Diamond\n",
    "**p** | Pentagon\n",
    "**h** | Hexagon\n",
    "**8** | Octagon\n",
    "**+** | Plus\n",
    "**x** | Cross\n",
    "\n",
    " - We can now apply some of them to the next example, where we specify a different size and color for each point of the previous dataset."
   ]
  },
  {
   "cell_type": "code",
   "execution_count": null,
   "metadata": {
    "deletable": false
   },
   "outputs": [],
   "source": [
    "import matplotlib.pyplot as plt\n",
    "import numpy as np\n",
    "size = 50*np.random.randn(1000)\n",
    "colors = np.random.rand(1000)\n",
    "plt.scatter(x, y, s=size, c=colors);\n",
    "plt.show()"
   ]
  },
  {
   "cell_type": "markdown",
   "metadata": {
    "deletable": false,
    "editable": false
   },
   "source": [
    "<h3 style=\"color:red;\">Referencies</h3>\n",
    "\n",
    "- Matplotlib Release 2.2.2, John Hunter, Darren Dale, Eric Firing, Michael Droettboom,March,2018.\n",
    "- Matplotlib tutorial,Nicolas P. Rougier - Euroscipy 2012 – Prace,2013"
   ]
  }
 ],
 "metadata": {
  "celltoolbar": "Edit Metadata",
  "kernelspec": {
   "display_name": "Python 3",
   "language": "python",
   "name": "python3"
  },
  "language_info": {
   "codemirror_mode": {
    "name": "ipython",
    "version": 3
   },
   "file_extension": ".py",
   "mimetype": "text/x-python",
   "name": "python",
   "nbconvert_exporter": "python",
   "pygments_lexer": "ipython3",
   "version": "3.8.10"
  },
  "latex_envs": {
   "LaTeX_envs_menu_present": true,
   "autoclose": false,
   "autocomplete": true,
   "bibliofile": "biblio.bib",
   "cite_by": "apalike",
   "current_citInitial": 1,
   "eqLabelWithNumbers": true,
   "eqNumInitial": 1,
   "hotkeys": {
    "equation": "Ctrl-E",
    "itemize": "Ctrl-I"
   },
   "labels_anchors": false,
   "latex_user_defs": false,
   "report_style_numbering": false,
   "user_envs_cfg": false
  }
 },
 "nbformat": 4,
 "nbformat_minor": 2
}
